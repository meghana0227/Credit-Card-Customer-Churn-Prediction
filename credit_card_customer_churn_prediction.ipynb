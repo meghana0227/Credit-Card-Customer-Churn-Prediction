{
  "metadata": {
    "kernelspec": {
      "language": "python",
      "display_name": "Python 3",
      "name": "python3"
    },
    "language_info": {
      "name": "python",
      "version": "3.10.14",
      "mimetype": "text/x-python",
      "codemirror_mode": {
        "name": "ipython",
        "version": 3
      },
      "pygments_lexer": "ipython3",
      "nbconvert_exporter": "python",
      "file_extension": ".py"
    },
    "kaggle": {
      "accelerator": "none",
      "dataSources": [
        {
          "sourceId": 1481789,
          "sourceType": "datasetVersion",
          "datasetId": 869651
        }
      ],
      "dockerImageVersionId": 30761,
      "isInternetEnabled": false,
      "language": "python",
      "sourceType": "notebook",
      "isGpuEnabled": false
    },
    "colab": {
      "provenance": []
    }
  },
  "nbformat_minor": 0,
  "nbformat": 4,
  "cells": [
    {
      "cell_type": "code",
      "source": [
        "# This Python 3 environment comes with many helpful analytics libraries installed\n",
        "# It is defined by the kaggle/python Docker image: https://github.com/kaggle/docker-python\n",
        "# For example, here's several helpful packages to load\n",
        "\n",
        "import numpy as np # linear algebra\n",
        "import pandas as pd # data processing, CSV file I/O (e.g. pd.read_csv)\n",
        "\n",
        "# Input data files are available in the read-only \"../input/\" directory\n",
        "# For example, running this (by clicking run or pressing Shift+Enter) will list all files under the input directory\n",
        "\n",
        "import os\n",
        "for dirname, _, filenames in os.walk('/kaggle/input'):\n",
        "    for filename in filenames:\n",
        "        print(os.path.join(dirname, filename))\n",
        "\n",
        "# You can write up to 20GB to the current directory (/kaggle/working/) that gets preserved as output when you create a version using \"Save & Run All\"\n",
        "# You can also write temporary files to /kaggle/temp/, but they won't be saved outside of the current session"
      ],
      "metadata": {
        "_uuid": "8f2839f25d086af736a60e9eeb907d3b93b6e0e5",
        "_cell_guid": "b1076dfc-b9ad-4769-8c92-a6c4dae69d19",
        "execution": {
          "iopub.status.busy": "2024-08-26T07:12:33.636818Z",
          "iopub.execute_input": "2024-08-26T07:12:33.637406Z",
          "iopub.status.idle": "2024-08-26T07:12:33.657246Z",
          "shell.execute_reply.started": "2024-08-26T07:12:33.637355Z",
          "shell.execute_reply": "2024-08-26T07:12:33.655428Z"
        },
        "trusted": true,
        "id": "FiVkVw8BjjrR",
        "outputId": "2d683cba-ef09-4883-bf2d-8aab29e49c1a"
      },
      "execution_count": null,
      "outputs": [
        {
          "name": "stdout",
          "text": "/kaggle/input/credit-card-customer-churn-prediction/Churn_Modelling.csv\n",
          "output_type": "stream"
        }
      ]
    },
    {
      "cell_type": "markdown",
      "source": [
        "# **Importing libraries**"
      ],
      "metadata": {
        "id": "GVj-jW06jjrU"
      }
    },
    {
      "cell_type": "code",
      "source": [
        "import pandas as pd\n",
        "import matplotlib.pyplot as plt\n",
        "\n",
        "from sklearn.model_selection import train_test_split\n",
        "from sklearn.preprocessing import StandardScaler\n",
        "from sklearn.metrics import accuracy_score\n",
        "\n",
        "import tensorflow\n",
        "from tensorflow import keras\n",
        "from tensorflow.keras import Sequential\n",
        "from tensorflow.keras.layers import Dense, Input"
      ],
      "metadata": {
        "execution": {
          "iopub.status.busy": "2024-08-26T07:12:33.659564Z",
          "iopub.execute_input": "2024-08-26T07:12:33.660275Z",
          "iopub.status.idle": "2024-08-26T07:12:33.668605Z",
          "shell.execute_reply.started": "2024-08-26T07:12:33.660214Z",
          "shell.execute_reply": "2024-08-26T07:12:33.667254Z"
        },
        "trusted": true,
        "id": "mpFyDFUKjjrV"
      },
      "execution_count": null,
      "outputs": []
    },
    {
      "cell_type": "markdown",
      "source": [
        "# **Loading data and Preporcessing**"
      ],
      "metadata": {
        "id": "x6uEWGlFjjrW"
      }
    },
    {
      "cell_type": "code",
      "source": [
        "df = pd.read_csv('/kaggle/input/credit-card-customer-churn-prediction/Churn_Modelling.csv')"
      ],
      "metadata": {
        "execution": {
          "iopub.status.busy": "2024-08-26T07:12:33.670161Z",
          "iopub.execute_input": "2024-08-26T07:12:33.670543Z",
          "iopub.status.idle": "2024-08-26T07:12:33.714558Z",
          "shell.execute_reply.started": "2024-08-26T07:12:33.670504Z",
          "shell.execute_reply": "2024-08-26T07:12:33.712889Z"
        },
        "trusted": true,
        "id": "VdScXskPjjrX"
      },
      "execution_count": null,
      "outputs": []
    },
    {
      "cell_type": "code",
      "source": [
        "df.head()"
      ],
      "metadata": {
        "execution": {
          "iopub.status.busy": "2024-08-26T07:12:33.717775Z",
          "iopub.execute_input": "2024-08-26T07:12:33.718269Z",
          "iopub.status.idle": "2024-08-26T07:12:33.739708Z",
          "shell.execute_reply.started": "2024-08-26T07:12:33.718221Z",
          "shell.execute_reply": "2024-08-26T07:12:33.738036Z"
        },
        "trusted": true,
        "id": "INpQ79DLjjrX",
        "outputId": "79d87694-7891-41fe-be56-6a622fb01252"
      },
      "execution_count": null,
      "outputs": [
        {
          "execution_count": 163,
          "output_type": "execute_result",
          "data": {
            "text/plain": "   RowNumber  CustomerId   Surname  CreditScore Geography  Gender  Age  \\\n0          1    15634602  Hargrave          619    France  Female   42   \n1          2    15647311      Hill          608     Spain  Female   41   \n2          3    15619304      Onio          502    France  Female   42   \n3          4    15701354      Boni          699    France  Female   39   \n4          5    15737888  Mitchell          850     Spain  Female   43   \n\n   Tenure    Balance  NumOfProducts  HasCrCard  IsActiveMember  \\\n0       2       0.00              1          1               1   \n1       1   83807.86              1          0               1   \n2       8  159660.80              3          1               0   \n3       1       0.00              2          0               0   \n4       2  125510.82              1          1               1   \n\n   EstimatedSalary  Exited  \n0        101348.88       1  \n1        112542.58       0  \n2        113931.57       1  \n3         93826.63       0  \n4         79084.10       0  ",
            "text/html": "<div>\n<style scoped>\n    .dataframe tbody tr th:only-of-type {\n        vertical-align: middle;\n    }\n\n    .dataframe tbody tr th {\n        vertical-align: top;\n    }\n\n    .dataframe thead th {\n        text-align: right;\n    }\n</style>\n<table border=\"1\" class=\"dataframe\">\n  <thead>\n    <tr style=\"text-align: right;\">\n      <th></th>\n      <th>RowNumber</th>\n      <th>CustomerId</th>\n      <th>Surname</th>\n      <th>CreditScore</th>\n      <th>Geography</th>\n      <th>Gender</th>\n      <th>Age</th>\n      <th>Tenure</th>\n      <th>Balance</th>\n      <th>NumOfProducts</th>\n      <th>HasCrCard</th>\n      <th>IsActiveMember</th>\n      <th>EstimatedSalary</th>\n      <th>Exited</th>\n    </tr>\n  </thead>\n  <tbody>\n    <tr>\n      <th>0</th>\n      <td>1</td>\n      <td>15634602</td>\n      <td>Hargrave</td>\n      <td>619</td>\n      <td>France</td>\n      <td>Female</td>\n      <td>42</td>\n      <td>2</td>\n      <td>0.00</td>\n      <td>1</td>\n      <td>1</td>\n      <td>1</td>\n      <td>101348.88</td>\n      <td>1</td>\n    </tr>\n    <tr>\n      <th>1</th>\n      <td>2</td>\n      <td>15647311</td>\n      <td>Hill</td>\n      <td>608</td>\n      <td>Spain</td>\n      <td>Female</td>\n      <td>41</td>\n      <td>1</td>\n      <td>83807.86</td>\n      <td>1</td>\n      <td>0</td>\n      <td>1</td>\n      <td>112542.58</td>\n      <td>0</td>\n    </tr>\n    <tr>\n      <th>2</th>\n      <td>3</td>\n      <td>15619304</td>\n      <td>Onio</td>\n      <td>502</td>\n      <td>France</td>\n      <td>Female</td>\n      <td>42</td>\n      <td>8</td>\n      <td>159660.80</td>\n      <td>3</td>\n      <td>1</td>\n      <td>0</td>\n      <td>113931.57</td>\n      <td>1</td>\n    </tr>\n    <tr>\n      <th>3</th>\n      <td>4</td>\n      <td>15701354</td>\n      <td>Boni</td>\n      <td>699</td>\n      <td>France</td>\n      <td>Female</td>\n      <td>39</td>\n      <td>1</td>\n      <td>0.00</td>\n      <td>2</td>\n      <td>0</td>\n      <td>0</td>\n      <td>93826.63</td>\n      <td>0</td>\n    </tr>\n    <tr>\n      <th>4</th>\n      <td>5</td>\n      <td>15737888</td>\n      <td>Mitchell</td>\n      <td>850</td>\n      <td>Spain</td>\n      <td>Female</td>\n      <td>43</td>\n      <td>2</td>\n      <td>125510.82</td>\n      <td>1</td>\n      <td>1</td>\n      <td>1</td>\n      <td>79084.10</td>\n      <td>0</td>\n    </tr>\n  </tbody>\n</table>\n</div>"
          },
          "metadata": {}
        }
      ]
    },
    {
      "cell_type": "code",
      "source": [
        "df.shape"
      ],
      "metadata": {
        "execution": {
          "iopub.status.busy": "2024-08-26T07:12:33.741521Z",
          "iopub.execute_input": "2024-08-26T07:12:33.742088Z",
          "iopub.status.idle": "2024-08-26T07:12:33.757127Z",
          "shell.execute_reply.started": "2024-08-26T07:12:33.742040Z",
          "shell.execute_reply": "2024-08-26T07:12:33.755699Z"
        },
        "trusted": true,
        "id": "TpF_JYVUjjrX",
        "outputId": "2e34ed75-ba7e-4a74-fde6-f3d2ff341cd3"
      },
      "execution_count": null,
      "outputs": [
        {
          "execution_count": 164,
          "output_type": "execute_result",
          "data": {
            "text/plain": "(10000, 14)"
          },
          "metadata": {}
        }
      ]
    },
    {
      "cell_type": "code",
      "source": [
        "#dropped RowNumber, CustomerId, Surname columns\n",
        "df.drop(columns =['RowNumber','CustomerId','Surname'], inplace = True)"
      ],
      "metadata": {
        "execution": {
          "iopub.status.busy": "2024-08-26T07:12:33.758967Z",
          "iopub.execute_input": "2024-08-26T07:12:33.759484Z",
          "iopub.status.idle": "2024-08-26T07:12:33.773672Z",
          "shell.execute_reply.started": "2024-08-26T07:12:33.759425Z",
          "shell.execute_reply": "2024-08-26T07:12:33.772391Z"
        },
        "trusted": true,
        "id": "reewNIVxjjrY"
      },
      "execution_count": null,
      "outputs": []
    },
    {
      "cell_type": "code",
      "source": [
        "df.head()"
      ],
      "metadata": {
        "execution": {
          "iopub.status.busy": "2024-08-26T07:12:33.775487Z",
          "iopub.execute_input": "2024-08-26T07:12:33.775993Z",
          "iopub.status.idle": "2024-08-26T07:12:33.800969Z",
          "shell.execute_reply.started": "2024-08-26T07:12:33.775929Z",
          "shell.execute_reply": "2024-08-26T07:12:33.799514Z"
        },
        "trusted": true,
        "id": "8woRfUAWjjrY",
        "outputId": "98485b52-174e-4fff-9621-8a963d8cdc52"
      },
      "execution_count": null,
      "outputs": [
        {
          "execution_count": 166,
          "output_type": "execute_result",
          "data": {
            "text/plain": "   CreditScore Geography  Gender  Age  Tenure    Balance  NumOfProducts  \\\n0          619    France  Female   42       2       0.00              1   \n1          608     Spain  Female   41       1   83807.86              1   \n2          502    France  Female   42       8  159660.80              3   \n3          699    France  Female   39       1       0.00              2   \n4          850     Spain  Female   43       2  125510.82              1   \n\n   HasCrCard  IsActiveMember  EstimatedSalary  Exited  \n0          1               1        101348.88       1  \n1          0               1        112542.58       0  \n2          1               0        113931.57       1  \n3          0               0         93826.63       0  \n4          1               1         79084.10       0  ",
            "text/html": "<div>\n<style scoped>\n    .dataframe tbody tr th:only-of-type {\n        vertical-align: middle;\n    }\n\n    .dataframe tbody tr th {\n        vertical-align: top;\n    }\n\n    .dataframe thead th {\n        text-align: right;\n    }\n</style>\n<table border=\"1\" class=\"dataframe\">\n  <thead>\n    <tr style=\"text-align: right;\">\n      <th></th>\n      <th>CreditScore</th>\n      <th>Geography</th>\n      <th>Gender</th>\n      <th>Age</th>\n      <th>Tenure</th>\n      <th>Balance</th>\n      <th>NumOfProducts</th>\n      <th>HasCrCard</th>\n      <th>IsActiveMember</th>\n      <th>EstimatedSalary</th>\n      <th>Exited</th>\n    </tr>\n  </thead>\n  <tbody>\n    <tr>\n      <th>0</th>\n      <td>619</td>\n      <td>France</td>\n      <td>Female</td>\n      <td>42</td>\n      <td>2</td>\n      <td>0.00</td>\n      <td>1</td>\n      <td>1</td>\n      <td>1</td>\n      <td>101348.88</td>\n      <td>1</td>\n    </tr>\n    <tr>\n      <th>1</th>\n      <td>608</td>\n      <td>Spain</td>\n      <td>Female</td>\n      <td>41</td>\n      <td>1</td>\n      <td>83807.86</td>\n      <td>1</td>\n      <td>0</td>\n      <td>1</td>\n      <td>112542.58</td>\n      <td>0</td>\n    </tr>\n    <tr>\n      <th>2</th>\n      <td>502</td>\n      <td>France</td>\n      <td>Female</td>\n      <td>42</td>\n      <td>8</td>\n      <td>159660.80</td>\n      <td>3</td>\n      <td>1</td>\n      <td>0</td>\n      <td>113931.57</td>\n      <td>1</td>\n    </tr>\n    <tr>\n      <th>3</th>\n      <td>699</td>\n      <td>France</td>\n      <td>Female</td>\n      <td>39</td>\n      <td>1</td>\n      <td>0.00</td>\n      <td>2</td>\n      <td>0</td>\n      <td>0</td>\n      <td>93826.63</td>\n      <td>0</td>\n    </tr>\n    <tr>\n      <th>4</th>\n      <td>850</td>\n      <td>Spain</td>\n      <td>Female</td>\n      <td>43</td>\n      <td>2</td>\n      <td>125510.82</td>\n      <td>1</td>\n      <td>1</td>\n      <td>1</td>\n      <td>79084.10</td>\n      <td>0</td>\n    </tr>\n  </tbody>\n</table>\n</div>"
          },
          "metadata": {}
        }
      ]
    },
    {
      "cell_type": "code",
      "source": [
        "df.info()"
      ],
      "metadata": {
        "execution": {
          "iopub.status.busy": "2024-08-26T07:12:33.804765Z",
          "iopub.execute_input": "2024-08-26T07:12:33.805261Z",
          "iopub.status.idle": "2024-08-26T07:12:33.823905Z",
          "shell.execute_reply.started": "2024-08-26T07:12:33.805214Z",
          "shell.execute_reply": "2024-08-26T07:12:33.822333Z"
        },
        "trusted": true,
        "id": "BSx7m7lejjrY",
        "outputId": "51412905-de60-4d23-9e90-be0ae3171ab2"
      },
      "execution_count": null,
      "outputs": [
        {
          "name": "stdout",
          "text": "<class 'pandas.core.frame.DataFrame'>\nRangeIndex: 10000 entries, 0 to 9999\nData columns (total 11 columns):\n #   Column           Non-Null Count  Dtype  \n---  ------           --------------  -----  \n 0   CreditScore      10000 non-null  int64  \n 1   Geography        10000 non-null  object \n 2   Gender           10000 non-null  object \n 3   Age              10000 non-null  int64  \n 4   Tenure           10000 non-null  int64  \n 5   Balance          10000 non-null  float64\n 6   NumOfProducts    10000 non-null  int64  \n 7   HasCrCard        10000 non-null  int64  \n 8   IsActiveMember   10000 non-null  int64  \n 9   EstimatedSalary  10000 non-null  float64\n 10  Exited           10000 non-null  int64  \ndtypes: float64(2), int64(7), object(2)\nmemory usage: 859.5+ KB\n",
          "output_type": "stream"
        }
      ]
    },
    {
      "cell_type": "code",
      "source": [
        "df['Exited'].value_counts()"
      ],
      "metadata": {
        "execution": {
          "iopub.status.busy": "2024-08-26T07:12:33.825574Z",
          "iopub.execute_input": "2024-08-26T07:12:33.826103Z",
          "iopub.status.idle": "2024-08-26T07:12:33.841953Z",
          "shell.execute_reply.started": "2024-08-26T07:12:33.826058Z",
          "shell.execute_reply": "2024-08-26T07:12:33.840581Z"
        },
        "trusted": true,
        "id": "OSpamU-ajjrZ",
        "outputId": "4dc0b894-bc43-4a6b-8311-7835a310b376"
      },
      "execution_count": null,
      "outputs": [
        {
          "execution_count": 168,
          "output_type": "execute_result",
          "data": {
            "text/plain": "Exited\n0    7963\n1    2037\nName: count, dtype: int64"
          },
          "metadata": {}
        }
      ]
    },
    {
      "cell_type": "code",
      "source": [
        "df['Geography'].value_counts()"
      ],
      "metadata": {
        "execution": {
          "iopub.status.busy": "2024-08-26T07:12:33.844165Z",
          "iopub.execute_input": "2024-08-26T07:12:33.844664Z",
          "iopub.status.idle": "2024-08-26T07:12:33.862342Z",
          "shell.execute_reply.started": "2024-08-26T07:12:33.844604Z",
          "shell.execute_reply": "2024-08-26T07:12:33.861049Z"
        },
        "trusted": true,
        "id": "E-SuByPujjrZ",
        "outputId": "467f19c1-b438-4430-f8a4-a5aefb7c97cd"
      },
      "execution_count": null,
      "outputs": [
        {
          "execution_count": 169,
          "output_type": "execute_result",
          "data": {
            "text/plain": "Geography\nFrance     5014\nGermany    2509\nSpain      2477\nName: count, dtype: int64"
          },
          "metadata": {}
        }
      ]
    },
    {
      "cell_type": "code",
      "source": [
        "#label encoding Geographym Gender columns\n",
        "df = pd.get_dummies(df, columns=['Geography', 'Gender'], drop_first = True)\n",
        "df = df.astype(int)"
      ],
      "metadata": {
        "execution": {
          "iopub.status.busy": "2024-08-26T07:12:33.864249Z",
          "iopub.execute_input": "2024-08-26T07:12:33.864835Z",
          "iopub.status.idle": "2024-08-26T07:12:33.885201Z",
          "shell.execute_reply.started": "2024-08-26T07:12:33.864775Z",
          "shell.execute_reply": "2024-08-26T07:12:33.883606Z"
        },
        "trusted": true,
        "id": "pBB_AAeajjrZ"
      },
      "execution_count": null,
      "outputs": []
    },
    {
      "cell_type": "code",
      "source": [
        "df.head()"
      ],
      "metadata": {
        "execution": {
          "iopub.status.busy": "2024-08-26T07:12:33.887275Z",
          "iopub.execute_input": "2024-08-26T07:12:33.887750Z",
          "iopub.status.idle": "2024-08-26T07:12:33.904895Z",
          "shell.execute_reply.started": "2024-08-26T07:12:33.887697Z",
          "shell.execute_reply": "2024-08-26T07:12:33.903446Z"
        },
        "trusted": true,
        "id": "oGScsMzyjjrZ",
        "outputId": "6b56b98d-7814-46bb-885a-9bf72a205085"
      },
      "execution_count": null,
      "outputs": [
        {
          "execution_count": 171,
          "output_type": "execute_result",
          "data": {
            "text/plain": "   CreditScore  Age  Tenure  Balance  NumOfProducts  HasCrCard  \\\n0          619   42       2        0              1          1   \n1          608   41       1    83807              1          0   \n2          502   42       8   159660              3          1   \n3          699   39       1        0              2          0   \n4          850   43       2   125510              1          1   \n\n   IsActiveMember  EstimatedSalary  Exited  Geography_Germany  \\\n0               1           101348       1                  0   \n1               1           112542       0                  0   \n2               0           113931       1                  0   \n3               0            93826       0                  0   \n4               1            79084       0                  0   \n\n   Geography_Spain  Gender_Male  \n0                0            0  \n1                1            0  \n2                0            0  \n3                0            0  \n4                1            0  ",
            "text/html": "<div>\n<style scoped>\n    .dataframe tbody tr th:only-of-type {\n        vertical-align: middle;\n    }\n\n    .dataframe tbody tr th {\n        vertical-align: top;\n    }\n\n    .dataframe thead th {\n        text-align: right;\n    }\n</style>\n<table border=\"1\" class=\"dataframe\">\n  <thead>\n    <tr style=\"text-align: right;\">\n      <th></th>\n      <th>CreditScore</th>\n      <th>Age</th>\n      <th>Tenure</th>\n      <th>Balance</th>\n      <th>NumOfProducts</th>\n      <th>HasCrCard</th>\n      <th>IsActiveMember</th>\n      <th>EstimatedSalary</th>\n      <th>Exited</th>\n      <th>Geography_Germany</th>\n      <th>Geography_Spain</th>\n      <th>Gender_Male</th>\n    </tr>\n  </thead>\n  <tbody>\n    <tr>\n      <th>0</th>\n      <td>619</td>\n      <td>42</td>\n      <td>2</td>\n      <td>0</td>\n      <td>1</td>\n      <td>1</td>\n      <td>1</td>\n      <td>101348</td>\n      <td>1</td>\n      <td>0</td>\n      <td>0</td>\n      <td>0</td>\n    </tr>\n    <tr>\n      <th>1</th>\n      <td>608</td>\n      <td>41</td>\n      <td>1</td>\n      <td>83807</td>\n      <td>1</td>\n      <td>0</td>\n      <td>1</td>\n      <td>112542</td>\n      <td>0</td>\n      <td>0</td>\n      <td>1</td>\n      <td>0</td>\n    </tr>\n    <tr>\n      <th>2</th>\n      <td>502</td>\n      <td>42</td>\n      <td>8</td>\n      <td>159660</td>\n      <td>3</td>\n      <td>1</td>\n      <td>0</td>\n      <td>113931</td>\n      <td>1</td>\n      <td>0</td>\n      <td>0</td>\n      <td>0</td>\n    </tr>\n    <tr>\n      <th>3</th>\n      <td>699</td>\n      <td>39</td>\n      <td>1</td>\n      <td>0</td>\n      <td>2</td>\n      <td>0</td>\n      <td>0</td>\n      <td>93826</td>\n      <td>0</td>\n      <td>0</td>\n      <td>0</td>\n      <td>0</td>\n    </tr>\n    <tr>\n      <th>4</th>\n      <td>850</td>\n      <td>43</td>\n      <td>2</td>\n      <td>125510</td>\n      <td>1</td>\n      <td>1</td>\n      <td>1</td>\n      <td>79084</td>\n      <td>0</td>\n      <td>0</td>\n      <td>1</td>\n      <td>0</td>\n    </tr>\n  </tbody>\n</table>\n</div>"
          },
          "metadata": {}
        }
      ]
    },
    {
      "cell_type": "code",
      "source": [
        "X = df.drop(columns=['Exited'])\n",
        "y = df['Exited'].values"
      ],
      "metadata": {
        "execution": {
          "iopub.status.busy": "2024-08-26T07:12:33.908209Z",
          "iopub.execute_input": "2024-08-26T07:12:33.908769Z",
          "iopub.status.idle": "2024-08-26T07:12:33.918362Z",
          "shell.execute_reply.started": "2024-08-26T07:12:33.908704Z",
          "shell.execute_reply": "2024-08-26T07:12:33.917201Z"
        },
        "trusted": true,
        "id": "kUKUJOr8jjra"
      },
      "execution_count": null,
      "outputs": []
    },
    {
      "cell_type": "code",
      "source": [
        "X_train, X_test, y_train, y_test = train_test_split(X, y, test_size = 0.2, random_state = 1 )"
      ],
      "metadata": {
        "execution": {
          "iopub.status.busy": "2024-08-26T07:12:33.919973Z",
          "iopub.execute_input": "2024-08-26T07:12:33.920316Z",
          "iopub.status.idle": "2024-08-26T07:12:33.935308Z",
          "shell.execute_reply.started": "2024-08-26T07:12:33.920279Z",
          "shell.execute_reply": "2024-08-26T07:12:33.933981Z"
        },
        "trusted": true,
        "id": "HBzVVBK1jjra"
      },
      "execution_count": null,
      "outputs": []
    },
    {
      "cell_type": "code",
      "source": [
        "#Scaling the values\n",
        "scaler = StandardScaler()\n",
        "\n",
        "X_train_scaled = scaler.fit_transform(X_train)\n",
        "X_test_scaled = scaler.transform(X_test)"
      ],
      "metadata": {
        "execution": {
          "iopub.status.busy": "2024-08-26T07:12:33.936771Z",
          "iopub.execute_input": "2024-08-26T07:12:33.937359Z",
          "iopub.status.idle": "2024-08-26T07:12:33.953940Z",
          "shell.execute_reply.started": "2024-08-26T07:12:33.937312Z",
          "shell.execute_reply": "2024-08-26T07:12:33.952632Z"
        },
        "trusted": true,
        "id": "mInWHmKSjjra"
      },
      "execution_count": null,
      "outputs": []
    },
    {
      "cell_type": "markdown",
      "source": [
        "# **Model building**"
      ],
      "metadata": {
        "id": "vHgjJntbjjra"
      }
    },
    {
      "cell_type": "code",
      "source": [
        "model = Sequential()\n",
        "\n",
        "model.add(Input(shape=(11, )))\n",
        "model.add(Dense(11, activation = 'relu'))\n",
        "model.add(Dense(11, activation = 'relu'))\n",
        "model.add(Dense(1, activation = 'sigmoid'))"
      ],
      "metadata": {
        "execution": {
          "iopub.status.busy": "2024-08-26T07:12:33.955420Z",
          "iopub.execute_input": "2024-08-26T07:12:33.955944Z",
          "iopub.status.idle": "2024-08-26T07:12:34.005026Z",
          "shell.execute_reply.started": "2024-08-26T07:12:33.955891Z",
          "shell.execute_reply": "2024-08-26T07:12:34.002885Z"
        },
        "trusted": true,
        "id": "_bPrVcGMjjra"
      },
      "execution_count": null,
      "outputs": []
    },
    {
      "cell_type": "code",
      "source": [
        "model.summary()"
      ],
      "metadata": {
        "execution": {
          "iopub.status.busy": "2024-08-26T07:12:34.006941Z",
          "iopub.execute_input": "2024-08-26T07:12:34.007654Z",
          "iopub.status.idle": "2024-08-26T07:12:34.031642Z",
          "shell.execute_reply.started": "2024-08-26T07:12:34.007553Z",
          "shell.execute_reply": "2024-08-26T07:12:34.030205Z"
        },
        "trusted": true,
        "id": "if76J58hjjra",
        "outputId": "5e82816b-1a64-4473-eef7-dde24fe0027c"
      },
      "execution_count": null,
      "outputs": [
        {
          "output_type": "display_data",
          "data": {
            "text/plain": "\u001b[1mModel: \"sequential_7\"\u001b[0m\n",
            "text/html": "<pre style=\"white-space:pre;overflow-x:auto;line-height:normal;font-family:Menlo,'DejaVu Sans Mono',consolas,'Courier New',monospace\"><span style=\"font-weight: bold\">Model: \"sequential_7\"</span>\n</pre>\n"
          },
          "metadata": {}
        },
        {
          "output_type": "display_data",
          "data": {
            "text/plain": "┏━━━━━━━━━━━━━━━━━━━━━━━━━━━━━━━━━┳━━━━━━━━━━━━━━━━━━━━━━━━┳━━━━━━━━━━━━━━━┓\n┃\u001b[1m \u001b[0m\u001b[1mLayer (type)                   \u001b[0m\u001b[1m \u001b[0m┃\u001b[1m \u001b[0m\u001b[1mOutput Shape          \u001b[0m\u001b[1m \u001b[0m┃\u001b[1m \u001b[0m\u001b[1m      Param #\u001b[0m\u001b[1m \u001b[0m┃\n┡━━━━━━━━━━━━━━━━━━━━━━━━━━━━━━━━━╇━━━━━━━━━━━━━━━━━━━━━━━━╇━━━━━━━━━━━━━━━┩\n│ dense_17 (\u001b[38;5;33mDense\u001b[0m)                │ (\u001b[38;5;45mNone\u001b[0m, \u001b[38;5;34m11\u001b[0m)             │           \u001b[38;5;34m132\u001b[0m │\n├─────────────────────────────────┼────────────────────────┼───────────────┤\n│ dense_18 (\u001b[38;5;33mDense\u001b[0m)                │ (\u001b[38;5;45mNone\u001b[0m, \u001b[38;5;34m11\u001b[0m)             │           \u001b[38;5;34m132\u001b[0m │\n├─────────────────────────────────┼────────────────────────┼───────────────┤\n│ dense_19 (\u001b[38;5;33mDense\u001b[0m)                │ (\u001b[38;5;45mNone\u001b[0m, \u001b[38;5;34m1\u001b[0m)              │            \u001b[38;5;34m12\u001b[0m │\n└─────────────────────────────────┴────────────────────────┴───────────────┘\n",
            "text/html": "<pre style=\"white-space:pre;overflow-x:auto;line-height:normal;font-family:Menlo,'DejaVu Sans Mono',consolas,'Courier New',monospace\">┏━━━━━━━━━━━━━━━━━━━━━━━━━━━━━━━━━┳━━━━━━━━━━━━━━━━━━━━━━━━┳━━━━━━━━━━━━━━━┓\n┃<span style=\"font-weight: bold\"> Layer (type)                    </span>┃<span style=\"font-weight: bold\"> Output Shape           </span>┃<span style=\"font-weight: bold\">       Param # </span>┃\n┡━━━━━━━━━━━━━━━━━━━━━━━━━━━━━━━━━╇━━━━━━━━━━━━━━━━━━━━━━━━╇━━━━━━━━━━━━━━━┩\n│ dense_17 (<span style=\"color: #0087ff; text-decoration-color: #0087ff\">Dense</span>)                │ (<span style=\"color: #00d7ff; text-decoration-color: #00d7ff\">None</span>, <span style=\"color: #00af00; text-decoration-color: #00af00\">11</span>)             │           <span style=\"color: #00af00; text-decoration-color: #00af00\">132</span> │\n├─────────────────────────────────┼────────────────────────┼───────────────┤\n│ dense_18 (<span style=\"color: #0087ff; text-decoration-color: #0087ff\">Dense</span>)                │ (<span style=\"color: #00d7ff; text-decoration-color: #00d7ff\">None</span>, <span style=\"color: #00af00; text-decoration-color: #00af00\">11</span>)             │           <span style=\"color: #00af00; text-decoration-color: #00af00\">132</span> │\n├─────────────────────────────────┼────────────────────────┼───────────────┤\n│ dense_19 (<span style=\"color: #0087ff; text-decoration-color: #0087ff\">Dense</span>)                │ (<span style=\"color: #00d7ff; text-decoration-color: #00d7ff\">None</span>, <span style=\"color: #00af00; text-decoration-color: #00af00\">1</span>)              │            <span style=\"color: #00af00; text-decoration-color: #00af00\">12</span> │\n└─────────────────────────────────┴────────────────────────┴───────────────┘\n</pre>\n"
          },
          "metadata": {}
        },
        {
          "output_type": "display_data",
          "data": {
            "text/plain": "\u001b[1m Total params: \u001b[0m\u001b[38;5;34m276\u001b[0m (1.08 KB)\n",
            "text/html": "<pre style=\"white-space:pre;overflow-x:auto;line-height:normal;font-family:Menlo,'DejaVu Sans Mono',consolas,'Courier New',monospace\"><span style=\"font-weight: bold\"> Total params: </span><span style=\"color: #00af00; text-decoration-color: #00af00\">276</span> (1.08 KB)\n</pre>\n"
          },
          "metadata": {}
        },
        {
          "output_type": "display_data",
          "data": {
            "text/plain": "\u001b[1m Trainable params: \u001b[0m\u001b[38;5;34m276\u001b[0m (1.08 KB)\n",
            "text/html": "<pre style=\"white-space:pre;overflow-x:auto;line-height:normal;font-family:Menlo,'DejaVu Sans Mono',consolas,'Courier New',monospace\"><span style=\"font-weight: bold\"> Trainable params: </span><span style=\"color: #00af00; text-decoration-color: #00af00\">276</span> (1.08 KB)\n</pre>\n"
          },
          "metadata": {}
        },
        {
          "output_type": "display_data",
          "data": {
            "text/plain": "\u001b[1m Non-trainable params: \u001b[0m\u001b[38;5;34m0\u001b[0m (0.00 B)\n",
            "text/html": "<pre style=\"white-space:pre;overflow-x:auto;line-height:normal;font-family:Menlo,'DejaVu Sans Mono',consolas,'Courier New',monospace\"><span style=\"font-weight: bold\"> Non-trainable params: </span><span style=\"color: #00af00; text-decoration-color: #00af00\">0</span> (0.00 B)\n</pre>\n"
          },
          "metadata": {}
        }
      ]
    },
    {
      "cell_type": "code",
      "source": [
        "model.compile(loss='binary_crossentropy', optimizer='Adam', metrics=['accuracy'])"
      ],
      "metadata": {
        "execution": {
          "iopub.status.busy": "2024-08-26T07:12:34.035800Z",
          "iopub.execute_input": "2024-08-26T07:12:34.036209Z",
          "iopub.status.idle": "2024-08-26T07:12:34.047464Z",
          "shell.execute_reply.started": "2024-08-26T07:12:34.036170Z",
          "shell.execute_reply": "2024-08-26T07:12:34.046266Z"
        },
        "trusted": true,
        "id": "6kDivZ7Djjra"
      },
      "execution_count": null,
      "outputs": []
    },
    {
      "cell_type": "code",
      "source": [
        "history = model.fit(X_train_scaled, y_train, epochs = 100, validation_split = 0.2)"
      ],
      "metadata": {
        "execution": {
          "iopub.status.busy": "2024-08-26T07:12:34.049062Z",
          "iopub.execute_input": "2024-08-26T07:12:34.049539Z",
          "iopub.status.idle": "2024-08-26T07:13:19.107283Z",
          "shell.execute_reply.started": "2024-08-26T07:12:34.049471Z",
          "shell.execute_reply": "2024-08-26T07:13:19.105906Z"
        },
        "trusted": true,
        "id": "8SZlwjgLjjrb",
        "outputId": "8b367259-0367-44f3-a8bd-4c8b539c810a"
      },
      "execution_count": null,
      "outputs": [
        {
          "name": "stdout",
          "text": "Epoch 1/100\n\u001b[1m200/200\u001b[0m \u001b[32m━━━━━━━━━━━━━━━━━━━━\u001b[0m\u001b[37m\u001b[0m \u001b[1m2s\u001b[0m 3ms/step - accuracy: 0.7167 - loss: 0.5963 - val_accuracy: 0.7975 - val_loss: 0.4841\nEpoch 2/100\n\u001b[1m200/200\u001b[0m \u001b[32m━━━━━━━━━━━━━━━━━━━━\u001b[0m\u001b[37m\u001b[0m \u001b[1m0s\u001b[0m 2ms/step - accuracy: 0.7960 - loss: 0.4611 - val_accuracy: 0.8006 - val_loss: 0.4498\nEpoch 3/100\n\u001b[1m200/200\u001b[0m \u001b[32m━━━━━━━━━━━━━━━━━━━━\u001b[0m\u001b[37m\u001b[0m \u001b[1m0s\u001b[0m 2ms/step - accuracy: 0.7985 - loss: 0.4330 - val_accuracy: 0.8037 - val_loss: 0.4351\nEpoch 4/100\n\u001b[1m200/200\u001b[0m \u001b[32m━━━━━━━━━━━━━━━━━━━━\u001b[0m\u001b[37m\u001b[0m \u001b[1m0s\u001b[0m 2ms/step - accuracy: 0.8053 - loss: 0.4190 - val_accuracy: 0.8119 - val_loss: 0.4207\nEpoch 5/100\n\u001b[1m200/200\u001b[0m \u001b[32m━━━━━━━━━━━━━━━━━━━━\u001b[0m\u001b[37m\u001b[0m \u001b[1m0s\u001b[0m 2ms/step - accuracy: 0.8281 - loss: 0.4152 - val_accuracy: 0.8300 - val_loss: 0.4052\nEpoch 6/100\n\u001b[1m200/200\u001b[0m \u001b[32m━━━━━━━━━━━━━━━━━━━━\u001b[0m\u001b[37m\u001b[0m \u001b[1m0s\u001b[0m 2ms/step - accuracy: 0.8275 - loss: 0.4143 - val_accuracy: 0.8388 - val_loss: 0.3893\nEpoch 7/100\n\u001b[1m200/200\u001b[0m \u001b[32m━━━━━━━━━━━━━━━━━━━━\u001b[0m\u001b[37m\u001b[0m \u001b[1m0s\u001b[0m 2ms/step - accuracy: 0.8485 - loss: 0.3833 - val_accuracy: 0.8438 - val_loss: 0.3742\nEpoch 8/100\n\u001b[1m200/200\u001b[0m \u001b[32m━━━━━━━━━━━━━━━━━━━━\u001b[0m\u001b[37m\u001b[0m \u001b[1m0s\u001b[0m 2ms/step - accuracy: 0.8520 - loss: 0.3811 - val_accuracy: 0.8487 - val_loss: 0.3651\nEpoch 9/100\n\u001b[1m200/200\u001b[0m \u001b[32m━━━━━━━━━━━━━━━━━━━━\u001b[0m\u001b[37m\u001b[0m \u001b[1m0s\u001b[0m 2ms/step - accuracy: 0.8519 - loss: 0.3557 - val_accuracy: 0.8506 - val_loss: 0.3588\nEpoch 10/100\n\u001b[1m200/200\u001b[0m \u001b[32m━━━━━━━━━━━━━━━━━━━━\u001b[0m\u001b[37m\u001b[0m \u001b[1m0s\u001b[0m 2ms/step - accuracy: 0.8586 - loss: 0.3523 - val_accuracy: 0.8525 - val_loss: 0.3559\nEpoch 11/100\n\u001b[1m200/200\u001b[0m \u001b[32m━━━━━━━━━━━━━━━━━━━━\u001b[0m\u001b[37m\u001b[0m \u001b[1m0s\u001b[0m 2ms/step - accuracy: 0.8576 - loss: 0.3504 - val_accuracy: 0.8575 - val_loss: 0.3548\nEpoch 12/100\n\u001b[1m200/200\u001b[0m \u001b[32m━━━━━━━━━━━━━━━━━━━━\u001b[0m\u001b[37m\u001b[0m \u001b[1m0s\u001b[0m 2ms/step - accuracy: 0.8656 - loss: 0.3342 - val_accuracy: 0.8569 - val_loss: 0.3540\nEpoch 13/100\n\u001b[1m200/200\u001b[0m \u001b[32m━━━━━━━━━━━━━━━━━━━━\u001b[0m\u001b[37m\u001b[0m \u001b[1m0s\u001b[0m 2ms/step - accuracy: 0.8589 - loss: 0.3440 - val_accuracy: 0.8569 - val_loss: 0.3513\nEpoch 14/100\n\u001b[1m200/200\u001b[0m \u001b[32m━━━━━━━━━━━━━━━━━━━━\u001b[0m\u001b[37m\u001b[0m \u001b[1m0s\u001b[0m 2ms/step - accuracy: 0.8556 - loss: 0.3448 - val_accuracy: 0.8587 - val_loss: 0.3506\nEpoch 15/100\n\u001b[1m200/200\u001b[0m \u001b[32m━━━━━━━━━━━━━━━━━━━━\u001b[0m\u001b[37m\u001b[0m \u001b[1m0s\u001b[0m 2ms/step - accuracy: 0.8633 - loss: 0.3304 - val_accuracy: 0.8575 - val_loss: 0.3512\nEpoch 16/100\n\u001b[1m200/200\u001b[0m \u001b[32m━━━━━━━━━━━━━━━━━━━━\u001b[0m\u001b[37m\u001b[0m \u001b[1m0s\u001b[0m 2ms/step - accuracy: 0.8598 - loss: 0.3350 - val_accuracy: 0.8537 - val_loss: 0.3519\nEpoch 17/100\n\u001b[1m200/200\u001b[0m \u001b[32m━━━━━━━━━━━━━━━━━━━━\u001b[0m\u001b[37m\u001b[0m \u001b[1m0s\u001b[0m 2ms/step - accuracy: 0.8542 - loss: 0.3445 - val_accuracy: 0.8594 - val_loss: 0.3507\nEpoch 18/100\n\u001b[1m200/200\u001b[0m \u001b[32m━━━━━━━━━━━━━━━━━━━━\u001b[0m\u001b[37m\u001b[0m \u001b[1m0s\u001b[0m 2ms/step - accuracy: 0.8606 - loss: 0.3376 - val_accuracy: 0.8612 - val_loss: 0.3491\nEpoch 19/100\n\u001b[1m200/200\u001b[0m \u001b[32m━━━━━━━━━━━━━━━━━━━━\u001b[0m\u001b[37m\u001b[0m \u001b[1m0s\u001b[0m 2ms/step - accuracy: 0.8702 - loss: 0.3248 - val_accuracy: 0.8569 - val_loss: 0.3486\nEpoch 20/100\n\u001b[1m200/200\u001b[0m \u001b[32m━━━━━━━━━━━━━━━━━━━━\u001b[0m\u001b[37m\u001b[0m \u001b[1m0s\u001b[0m 2ms/step - accuracy: 0.8679 - loss: 0.3252 - val_accuracy: 0.8587 - val_loss: 0.3487\nEpoch 21/100\n\u001b[1m200/200\u001b[0m \u001b[32m━━━━━━━━━━━━━━━━━━━━\u001b[0m\u001b[37m\u001b[0m \u001b[1m0s\u001b[0m 2ms/step - accuracy: 0.8633 - loss: 0.3308 - val_accuracy: 0.8606 - val_loss: 0.3482\nEpoch 22/100\n\u001b[1m200/200\u001b[0m \u001b[32m━━━━━━━━━━━━━━━━━━━━\u001b[0m\u001b[37m\u001b[0m \u001b[1m0s\u001b[0m 2ms/step - accuracy: 0.8614 - loss: 0.3355 - val_accuracy: 0.8587 - val_loss: 0.3486\nEpoch 23/100\n\u001b[1m200/200\u001b[0m \u001b[32m━━━━━━━━━━━━━━━━━━━━\u001b[0m\u001b[37m\u001b[0m \u001b[1m0s\u001b[0m 2ms/step - accuracy: 0.8599 - loss: 0.3361 - val_accuracy: 0.8594 - val_loss: 0.3479\nEpoch 24/100\n\u001b[1m200/200\u001b[0m \u001b[32m━━━━━━━━━━━━━━━━━━━━\u001b[0m\u001b[37m\u001b[0m \u001b[1m0s\u001b[0m 2ms/step - accuracy: 0.8623 - loss: 0.3294 - val_accuracy: 0.8569 - val_loss: 0.3472\nEpoch 25/100\n\u001b[1m200/200\u001b[0m \u001b[32m━━━━━━━━━━━━━━━━━━━━\u001b[0m\u001b[37m\u001b[0m \u001b[1m0s\u001b[0m 2ms/step - accuracy: 0.8594 - loss: 0.3431 - val_accuracy: 0.8637 - val_loss: 0.3469\nEpoch 26/100\n\u001b[1m200/200\u001b[0m \u001b[32m━━━━━━━━━━━━━━━━━━━━\u001b[0m\u001b[37m\u001b[0m \u001b[1m0s\u001b[0m 2ms/step - accuracy: 0.8699 - loss: 0.3258 - val_accuracy: 0.8594 - val_loss: 0.3460\nEpoch 27/100\n\u001b[1m200/200\u001b[0m \u001b[32m━━━━━━━━━━━━━━━━━━━━\u001b[0m\u001b[37m\u001b[0m \u001b[1m0s\u001b[0m 2ms/step - accuracy: 0.8596 - loss: 0.3404 - val_accuracy: 0.8556 - val_loss: 0.3465\nEpoch 28/100\n\u001b[1m200/200\u001b[0m \u001b[32m━━━━━━━━━━━━━━━━━━━━\u001b[0m\u001b[37m\u001b[0m \u001b[1m0s\u001b[0m 2ms/step - accuracy: 0.8615 - loss: 0.3356 - val_accuracy: 0.8587 - val_loss: 0.3467\nEpoch 29/100\n\u001b[1m200/200\u001b[0m \u001b[32m━━━━━━━━━━━━━━━━━━━━\u001b[0m\u001b[37m\u001b[0m \u001b[1m0s\u001b[0m 2ms/step - accuracy: 0.8637 - loss: 0.3293 - val_accuracy: 0.8600 - val_loss: 0.3465\nEpoch 30/100\n\u001b[1m200/200\u001b[0m \u001b[32m━━━━━━━━━━━━━━━━━━━━\u001b[0m\u001b[37m\u001b[0m \u001b[1m0s\u001b[0m 2ms/step - accuracy: 0.8612 - loss: 0.3360 - val_accuracy: 0.8606 - val_loss: 0.3453\nEpoch 31/100\n\u001b[1m200/200\u001b[0m \u001b[32m━━━━━━━━━━━━━━━━━━━━\u001b[0m\u001b[37m\u001b[0m \u001b[1m0s\u001b[0m 2ms/step - accuracy: 0.8665 - loss: 0.3378 - val_accuracy: 0.8581 - val_loss: 0.3455\nEpoch 32/100\n\u001b[1m200/200\u001b[0m \u001b[32m━━━━━━━━━━━━━━━━━━━━\u001b[0m\u001b[37m\u001b[0m \u001b[1m0s\u001b[0m 2ms/step - accuracy: 0.8681 - loss: 0.3342 - val_accuracy: 0.8575 - val_loss: 0.3456\nEpoch 33/100\n\u001b[1m200/200\u001b[0m \u001b[32m━━━━━━━━━━━━━━━━━━━━\u001b[0m\u001b[37m\u001b[0m \u001b[1m0s\u001b[0m 2ms/step - accuracy: 0.8716 - loss: 0.3255 - val_accuracy: 0.8587 - val_loss: 0.3455\nEpoch 34/100\n\u001b[1m200/200\u001b[0m \u001b[32m━━━━━━━━━━━━━━━━━━━━\u001b[0m\u001b[37m\u001b[0m \u001b[1m0s\u001b[0m 2ms/step - accuracy: 0.8682 - loss: 0.3242 - val_accuracy: 0.8606 - val_loss: 0.3450\nEpoch 35/100\n\u001b[1m200/200\u001b[0m \u001b[32m━━━━━━━━━━━━━━━━━━━━\u001b[0m\u001b[37m\u001b[0m \u001b[1m0s\u001b[0m 2ms/step - accuracy: 0.8670 - loss: 0.3272 - val_accuracy: 0.8600 - val_loss: 0.3456\nEpoch 36/100\n\u001b[1m200/200\u001b[0m \u001b[32m━━━━━━━━━━━━━━━━━━━━\u001b[0m\u001b[37m\u001b[0m \u001b[1m0s\u001b[0m 2ms/step - accuracy: 0.8677 - loss: 0.3199 - val_accuracy: 0.8606 - val_loss: 0.3452\nEpoch 37/100\n\u001b[1m200/200\u001b[0m \u001b[32m━━━━━━━━━━━━━━━━━━━━\u001b[0m\u001b[37m\u001b[0m \u001b[1m0s\u001b[0m 2ms/step - accuracy: 0.8607 - loss: 0.3335 - val_accuracy: 0.8587 - val_loss: 0.3450\nEpoch 38/100\n\u001b[1m200/200\u001b[0m \u001b[32m━━━━━━━━━━━━━━━━━━━━\u001b[0m\u001b[37m\u001b[0m \u001b[1m0s\u001b[0m 2ms/step - accuracy: 0.8663 - loss: 0.3305 - val_accuracy: 0.8594 - val_loss: 0.3458\nEpoch 39/100\n\u001b[1m200/200\u001b[0m \u001b[32m━━━━━━━━━━━━━━━━━━━━\u001b[0m\u001b[37m\u001b[0m \u001b[1m0s\u001b[0m 2ms/step - accuracy: 0.8672 - loss: 0.3213 - val_accuracy: 0.8619 - val_loss: 0.3447\nEpoch 40/100\n\u001b[1m200/200\u001b[0m \u001b[32m━━━━━━━━━━━━━━━━━━━━\u001b[0m\u001b[37m\u001b[0m \u001b[1m0s\u001b[0m 2ms/step - accuracy: 0.8607 - loss: 0.3280 - val_accuracy: 0.8612 - val_loss: 0.3445\nEpoch 41/100\n\u001b[1m200/200\u001b[0m \u001b[32m━━━━━━━━━━━━━━━━━━━━\u001b[0m\u001b[37m\u001b[0m \u001b[1m0s\u001b[0m 2ms/step - accuracy: 0.8628 - loss: 0.3275 - val_accuracy: 0.8594 - val_loss: 0.3463\nEpoch 42/100\n\u001b[1m200/200\u001b[0m \u001b[32m━━━━━━━━━━━━━━━━━━━━\u001b[0m\u001b[37m\u001b[0m \u001b[1m0s\u001b[0m 2ms/step - accuracy: 0.8673 - loss: 0.3226 - val_accuracy: 0.8600 - val_loss: 0.3444\nEpoch 43/100\n\u001b[1m200/200\u001b[0m \u001b[32m━━━━━━━━━━━━━━━━━━━━\u001b[0m\u001b[37m\u001b[0m \u001b[1m0s\u001b[0m 2ms/step - accuracy: 0.8633 - loss: 0.3286 - val_accuracy: 0.8600 - val_loss: 0.3447\nEpoch 44/100\n\u001b[1m200/200\u001b[0m \u001b[32m━━━━━━━━━━━━━━━━━━━━\u001b[0m\u001b[37m\u001b[0m \u001b[1m0s\u001b[0m 2ms/step - accuracy: 0.8724 - loss: 0.3162 - val_accuracy: 0.8606 - val_loss: 0.3460\nEpoch 45/100\n\u001b[1m200/200\u001b[0m \u001b[32m━━━━━━━━━━━━━━━━━━━━\u001b[0m\u001b[37m\u001b[0m \u001b[1m0s\u001b[0m 2ms/step - accuracy: 0.8673 - loss: 0.3219 - val_accuracy: 0.8606 - val_loss: 0.3441\nEpoch 46/100\n\u001b[1m200/200\u001b[0m \u001b[32m━━━━━━━━━━━━━━━━━━━━\u001b[0m\u001b[37m\u001b[0m \u001b[1m0s\u001b[0m 2ms/step - accuracy: 0.8739 - loss: 0.3214 - val_accuracy: 0.8600 - val_loss: 0.3446\nEpoch 47/100\n\u001b[1m200/200\u001b[0m \u001b[32m━━━━━━━━━━━━━━━━━━━━\u001b[0m\u001b[37m\u001b[0m \u001b[1m0s\u001b[0m 2ms/step - accuracy: 0.8678 - loss: 0.3264 - val_accuracy: 0.8594 - val_loss: 0.3447\nEpoch 48/100\n\u001b[1m200/200\u001b[0m \u001b[32m━━━━━━━━━━━━━━━━━━━━\u001b[0m\u001b[37m\u001b[0m \u001b[1m0s\u001b[0m 2ms/step - accuracy: 0.8686 - loss: 0.3187 - val_accuracy: 0.8600 - val_loss: 0.3463\nEpoch 49/100\n\u001b[1m200/200\u001b[0m \u001b[32m━━━━━━━━━━━━━━━━━━━━\u001b[0m\u001b[37m\u001b[0m \u001b[1m0s\u001b[0m 2ms/step - accuracy: 0.8694 - loss: 0.3302 - val_accuracy: 0.8625 - val_loss: 0.3457\nEpoch 50/100\n\u001b[1m200/200\u001b[0m \u001b[32m━━━━━━━━━━━━━━━━━━━━\u001b[0m\u001b[37m\u001b[0m \u001b[1m0s\u001b[0m 2ms/step - accuracy: 0.8747 - loss: 0.3116 - val_accuracy: 0.8612 - val_loss: 0.3458\nEpoch 51/100\n\u001b[1m200/200\u001b[0m \u001b[32m━━━━━━━━━━━━━━━━━━━━\u001b[0m\u001b[37m\u001b[0m \u001b[1m0s\u001b[0m 2ms/step - accuracy: 0.8718 - loss: 0.3170 - val_accuracy: 0.8587 - val_loss: 0.3470\nEpoch 52/100\n\u001b[1m200/200\u001b[0m \u001b[32m━━━━━━━━━━━━━━━━━━━━\u001b[0m\u001b[37m\u001b[0m \u001b[1m0s\u001b[0m 2ms/step - accuracy: 0.8663 - loss: 0.3197 - val_accuracy: 0.8581 - val_loss: 0.3473\nEpoch 53/100\n\u001b[1m200/200\u001b[0m \u001b[32m━━━━━━━━━━━━━━━━━━━━\u001b[0m\u001b[37m\u001b[0m \u001b[1m0s\u001b[0m 2ms/step - accuracy: 0.8761 - loss: 0.3075 - val_accuracy: 0.8594 - val_loss: 0.3453\nEpoch 54/100\n\u001b[1m200/200\u001b[0m \u001b[32m━━━━━━━━━━━━━━━━━━━━\u001b[0m\u001b[37m\u001b[0m \u001b[1m0s\u001b[0m 2ms/step - accuracy: 0.8708 - loss: 0.3171 - val_accuracy: 0.8606 - val_loss: 0.3455\nEpoch 55/100\n\u001b[1m200/200\u001b[0m \u001b[32m━━━━━━━━━━━━━━━━━━━━\u001b[0m\u001b[37m\u001b[0m \u001b[1m0s\u001b[0m 2ms/step - accuracy: 0.8626 - loss: 0.3268 - val_accuracy: 0.8600 - val_loss: 0.3458\nEpoch 56/100\n\u001b[1m200/200\u001b[0m \u001b[32m━━━━━━━━━━━━━━━━━━━━\u001b[0m\u001b[37m\u001b[0m \u001b[1m0s\u001b[0m 2ms/step - accuracy: 0.8650 - loss: 0.3298 - val_accuracy: 0.8606 - val_loss: 0.3470\nEpoch 57/100\n\u001b[1m200/200\u001b[0m \u001b[32m━━━━━━━━━━━━━━━━━━━━\u001b[0m\u001b[37m\u001b[0m \u001b[1m0s\u001b[0m 2ms/step - accuracy: 0.8706 - loss: 0.3182 - val_accuracy: 0.8569 - val_loss: 0.3463\nEpoch 58/100\n\u001b[1m200/200\u001b[0m \u001b[32m━━━━━━━━━━━━━━━━━━━━\u001b[0m\u001b[37m\u001b[0m \u001b[1m0s\u001b[0m 2ms/step - accuracy: 0.8644 - loss: 0.3241 - val_accuracy: 0.8606 - val_loss: 0.3473\nEpoch 59/100\n\u001b[1m200/200\u001b[0m \u001b[32m━━━━━━━━━━━━━━━━━━━━\u001b[0m\u001b[37m\u001b[0m \u001b[1m0s\u001b[0m 2ms/step - accuracy: 0.8693 - loss: 0.3204 - val_accuracy: 0.8594 - val_loss: 0.3466\nEpoch 60/100\n\u001b[1m200/200\u001b[0m \u001b[32m━━━━━━━━━━━━━━━━━━━━\u001b[0m\u001b[37m\u001b[0m \u001b[1m0s\u001b[0m 2ms/step - accuracy: 0.8639 - loss: 0.3329 - val_accuracy: 0.8600 - val_loss: 0.3466\nEpoch 61/100\n\u001b[1m200/200\u001b[0m \u001b[32m━━━━━━━━━━━━━━━━━━━━\u001b[0m\u001b[37m\u001b[0m \u001b[1m0s\u001b[0m 2ms/step - accuracy: 0.8805 - loss: 0.3012 - val_accuracy: 0.8606 - val_loss: 0.3449\nEpoch 62/100\n\u001b[1m200/200\u001b[0m \u001b[32m━━━━━━━━━━━━━━━━━━━━\u001b[0m\u001b[37m\u001b[0m \u001b[1m0s\u001b[0m 2ms/step - accuracy: 0.8756 - loss: 0.3133 - val_accuracy: 0.8587 - val_loss: 0.3452\nEpoch 63/100\n\u001b[1m200/200\u001b[0m \u001b[32m━━━━━━━━━━━━━━━━━━━━\u001b[0m\u001b[37m\u001b[0m \u001b[1m0s\u001b[0m 2ms/step - accuracy: 0.8640 - loss: 0.3241 - val_accuracy: 0.8619 - val_loss: 0.3454\nEpoch 64/100\n\u001b[1m200/200\u001b[0m \u001b[32m━━━━━━━━━━━━━━━━━━━━\u001b[0m\u001b[37m\u001b[0m \u001b[1m0s\u001b[0m 2ms/step - accuracy: 0.8644 - loss: 0.3300 - val_accuracy: 0.8587 - val_loss: 0.3480\nEpoch 65/100\n\u001b[1m200/200\u001b[0m \u001b[32m━━━━━━━━━━━━━━━━━━━━\u001b[0m\u001b[37m\u001b[0m \u001b[1m0s\u001b[0m 2ms/step - accuracy: 0.8693 - loss: 0.3231 - val_accuracy: 0.8631 - val_loss: 0.3440\nEpoch 66/100\n\u001b[1m200/200\u001b[0m \u001b[32m━━━━━━━━━━━━━━━━━━━━\u001b[0m\u001b[37m\u001b[0m \u001b[1m0s\u001b[0m 2ms/step - accuracy: 0.8715 - loss: 0.3169 - val_accuracy: 0.8594 - val_loss: 0.3444\nEpoch 67/100\n\u001b[1m200/200\u001b[0m \u001b[32m━━━━━━━━━━━━━━━━━━━━\u001b[0m\u001b[37m\u001b[0m \u001b[1m0s\u001b[0m 2ms/step - accuracy: 0.8751 - loss: 0.3046 - val_accuracy: 0.8581 - val_loss: 0.3450\nEpoch 68/100\n\u001b[1m200/200\u001b[0m \u001b[32m━━━━━━━━━━━━━━━━━━━━\u001b[0m\u001b[37m\u001b[0m \u001b[1m0s\u001b[0m 2ms/step - accuracy: 0.8718 - loss: 0.3245 - val_accuracy: 0.8569 - val_loss: 0.3453\nEpoch 69/100\n\u001b[1m200/200\u001b[0m \u001b[32m━━━━━━━━━━━━━━━━━━━━\u001b[0m\u001b[37m\u001b[0m \u001b[1m0s\u001b[0m 2ms/step - accuracy: 0.8717 - loss: 0.3124 - val_accuracy: 0.8587 - val_loss: 0.3446\nEpoch 70/100\n\u001b[1m200/200\u001b[0m \u001b[32m━━━━━━━━━━━━━━━━━━━━\u001b[0m\u001b[37m\u001b[0m \u001b[1m0s\u001b[0m 2ms/step - accuracy: 0.8684 - loss: 0.3201 - val_accuracy: 0.8569 - val_loss: 0.3459\nEpoch 71/100\n\u001b[1m200/200\u001b[0m \u001b[32m━━━━━━━━━━━━━━━━━━━━\u001b[0m\u001b[37m\u001b[0m \u001b[1m0s\u001b[0m 2ms/step - accuracy: 0.8671 - loss: 0.3218 - val_accuracy: 0.8594 - val_loss: 0.3452\nEpoch 72/100\n\u001b[1m200/200\u001b[0m \u001b[32m━━━━━━━━━━━━━━━━━━━━\u001b[0m\u001b[37m\u001b[0m \u001b[1m0s\u001b[0m 2ms/step - accuracy: 0.8738 - loss: 0.3156 - val_accuracy: 0.8581 - val_loss: 0.3445\nEpoch 73/100\n\u001b[1m200/200\u001b[0m \u001b[32m━━━━━━━━━━━━━━━━━━━━\u001b[0m\u001b[37m\u001b[0m \u001b[1m0s\u001b[0m 2ms/step - accuracy: 0.8781 - loss: 0.3001 - val_accuracy: 0.8606 - val_loss: 0.3436\nEpoch 74/100\n\u001b[1m200/200\u001b[0m \u001b[32m━━━━━━━━━━━━━━━━━━━━\u001b[0m\u001b[37m\u001b[0m \u001b[1m1s\u001b[0m 2ms/step - accuracy: 0.8711 - loss: 0.3093 - val_accuracy: 0.8587 - val_loss: 0.3436\nEpoch 75/100\n\u001b[1m200/200\u001b[0m \u001b[32m━━━━━━━━━━━━━━━━━━━━\u001b[0m\u001b[37m\u001b[0m \u001b[1m0s\u001b[0m 2ms/step - accuracy: 0.8715 - loss: 0.3202 - val_accuracy: 0.8575 - val_loss: 0.3454\nEpoch 76/100\n\u001b[1m200/200\u001b[0m \u001b[32m━━━━━━━━━━━━━━━━━━━━\u001b[0m\u001b[37m\u001b[0m \u001b[1m1s\u001b[0m 3ms/step - accuracy: 0.8713 - loss: 0.3143 - val_accuracy: 0.8625 - val_loss: 0.3445\nEpoch 77/100\n\u001b[1m200/200\u001b[0m \u001b[32m━━━━━━━━━━━━━━━━━━━━\u001b[0m\u001b[37m\u001b[0m \u001b[1m0s\u001b[0m 2ms/step - accuracy: 0.8696 - loss: 0.3221 - val_accuracy: 0.8631 - val_loss: 0.3445\nEpoch 78/100\n\u001b[1m200/200\u001b[0m \u001b[32m━━━━━━━━━━━━━━━━━━━━\u001b[0m\u001b[37m\u001b[0m \u001b[1m0s\u001b[0m 2ms/step - accuracy: 0.8685 - loss: 0.3184 - val_accuracy: 0.8569 - val_loss: 0.3454\nEpoch 79/100\n\u001b[1m200/200\u001b[0m \u001b[32m━━━━━━━━━━━━━━━━━━━━\u001b[0m\u001b[37m\u001b[0m \u001b[1m0s\u001b[0m 2ms/step - accuracy: 0.8688 - loss: 0.3192 - val_accuracy: 0.8575 - val_loss: 0.3468\nEpoch 80/100\n\u001b[1m200/200\u001b[0m \u001b[32m━━━━━━━━━━━━━━━━━━━━\u001b[0m\u001b[37m\u001b[0m \u001b[1m0s\u001b[0m 2ms/step - accuracy: 0.8665 - loss: 0.3168 - val_accuracy: 0.8612 - val_loss: 0.3447\nEpoch 81/100\n\u001b[1m200/200\u001b[0m \u001b[32m━━━━━━━━━━━━━━━━━━━━\u001b[0m\u001b[37m\u001b[0m \u001b[1m0s\u001b[0m 2ms/step - accuracy: 0.8700 - loss: 0.3167 - val_accuracy: 0.8612 - val_loss: 0.3451\nEpoch 82/100\n\u001b[1m200/200\u001b[0m \u001b[32m━━━━━━━━━━━━━━━━━━━━\u001b[0m\u001b[37m\u001b[0m \u001b[1m0s\u001b[0m 2ms/step - accuracy: 0.8733 - loss: 0.3181 - val_accuracy: 0.8581 - val_loss: 0.3449\nEpoch 83/100\n\u001b[1m200/200\u001b[0m \u001b[32m━━━━━━━━━━━━━━━━━━━━\u001b[0m\u001b[37m\u001b[0m \u001b[1m0s\u001b[0m 2ms/step - accuracy: 0.8699 - loss: 0.3186 - val_accuracy: 0.8606 - val_loss: 0.3440\nEpoch 84/100\n\u001b[1m200/200\u001b[0m \u001b[32m━━━━━━━━━━━━━━━━━━━━\u001b[0m\u001b[37m\u001b[0m \u001b[1m0s\u001b[0m 2ms/step - accuracy: 0.8775 - loss: 0.3073 - val_accuracy: 0.8600 - val_loss: 0.3484\nEpoch 85/100\n\u001b[1m200/200\u001b[0m \u001b[32m━━━━━━━━━━━━━━━━━━━━\u001b[0m\u001b[37m\u001b[0m \u001b[1m0s\u001b[0m 2ms/step - accuracy: 0.8716 - loss: 0.3145 - val_accuracy: 0.8575 - val_loss: 0.3443\nEpoch 86/100\n\u001b[1m200/200\u001b[0m \u001b[32m━━━━━━━━━━━━━━━━━━━━\u001b[0m\u001b[37m\u001b[0m \u001b[1m0s\u001b[0m 2ms/step - accuracy: 0.8668 - loss: 0.3222 - val_accuracy: 0.8594 - val_loss: 0.3467\nEpoch 87/100\n\u001b[1m200/200\u001b[0m \u001b[32m━━━━━━━━━━━━━━━━━━━━\u001b[0m\u001b[37m\u001b[0m \u001b[1m0s\u001b[0m 2ms/step - accuracy: 0.8675 - loss: 0.3125 - val_accuracy: 0.8631 - val_loss: 0.3442\nEpoch 88/100\n\u001b[1m200/200\u001b[0m \u001b[32m━━━━━━━━━━━━━━━━━━━━\u001b[0m\u001b[37m\u001b[0m \u001b[1m0s\u001b[0m 2ms/step - accuracy: 0.8677 - loss: 0.3241 - val_accuracy: 0.8600 - val_loss: 0.3457\nEpoch 89/100\n\u001b[1m200/200\u001b[0m \u001b[32m━━━━━━━━━━━━━━━━━━━━\u001b[0m\u001b[37m\u001b[0m \u001b[1m0s\u001b[0m 2ms/step - accuracy: 0.8681 - loss: 0.3173 - val_accuracy: 0.8619 - val_loss: 0.3442\nEpoch 90/100\n\u001b[1m200/200\u001b[0m \u001b[32m━━━━━━━━━━━━━━━━━━━━\u001b[0m\u001b[37m\u001b[0m \u001b[1m0s\u001b[0m 2ms/step - accuracy: 0.8752 - loss: 0.3076 - val_accuracy: 0.8594 - val_loss: 0.3468\nEpoch 91/100\n\u001b[1m200/200\u001b[0m \u001b[32m━━━━━━━━━━━━━━━━━━━━\u001b[0m\u001b[37m\u001b[0m \u001b[1m0s\u001b[0m 2ms/step - accuracy: 0.8763 - loss: 0.3101 - val_accuracy: 0.8587 - val_loss: 0.3463\nEpoch 92/100\n\u001b[1m200/200\u001b[0m \u001b[32m━━━━━━━━━━━━━━━━━━━━\u001b[0m\u001b[37m\u001b[0m \u001b[1m0s\u001b[0m 2ms/step - accuracy: 0.8723 - loss: 0.3126 - val_accuracy: 0.8606 - val_loss: 0.3458\nEpoch 93/100\n\u001b[1m200/200\u001b[0m \u001b[32m━━━━━━━━━━━━━━━━━━━━\u001b[0m\u001b[37m\u001b[0m \u001b[1m0s\u001b[0m 2ms/step - accuracy: 0.8698 - loss: 0.3130 - val_accuracy: 0.8600 - val_loss: 0.3446\nEpoch 94/100\n\u001b[1m200/200\u001b[0m \u001b[32m━━━━━━━━━━━━━━━━━━━━\u001b[0m\u001b[37m\u001b[0m \u001b[1m0s\u001b[0m 2ms/step - accuracy: 0.8684 - loss: 0.3199 - val_accuracy: 0.8606 - val_loss: 0.3456\nEpoch 95/100\n\u001b[1m200/200\u001b[0m \u001b[32m━━━━━━━━━━━━━━━━━━━━\u001b[0m\u001b[37m\u001b[0m \u001b[1m1s\u001b[0m 2ms/step - accuracy: 0.8720 - loss: 0.3058 - val_accuracy: 0.8606 - val_loss: 0.3455\nEpoch 96/100\n\u001b[1m200/200\u001b[0m \u001b[32m━━━━━━━━━━━━━━━━━━━━\u001b[0m\u001b[37m\u001b[0m \u001b[1m0s\u001b[0m 2ms/step - accuracy: 0.8691 - loss: 0.3211 - val_accuracy: 0.8600 - val_loss: 0.3451\nEpoch 97/100\n\u001b[1m200/200\u001b[0m \u001b[32m━━━━━━━━━━━━━━━━━━━━\u001b[0m\u001b[37m\u001b[0m \u001b[1m0s\u001b[0m 2ms/step - accuracy: 0.8713 - loss: 0.3150 - val_accuracy: 0.8631 - val_loss: 0.3443\nEpoch 98/100\n\u001b[1m200/200\u001b[0m \u001b[32m━━━━━━━━━━━━━━━━━━━━\u001b[0m\u001b[37m\u001b[0m \u001b[1m0s\u001b[0m 2ms/step - accuracy: 0.8641 - loss: 0.3270 - val_accuracy: 0.8600 - val_loss: 0.3477\nEpoch 99/100\n\u001b[1m200/200\u001b[0m \u001b[32m━━━━━━━━━━━━━━━━━━━━\u001b[0m\u001b[37m\u001b[0m \u001b[1m0s\u001b[0m 2ms/step - accuracy: 0.8739 - loss: 0.3132 - val_accuracy: 0.8575 - val_loss: 0.3454\nEpoch 100/100\n\u001b[1m200/200\u001b[0m \u001b[32m━━━━━━━━━━━━━━━━━━━━\u001b[0m\u001b[37m\u001b[0m \u001b[1m0s\u001b[0m 2ms/step - accuracy: 0.8702 - loss: 0.3207 - val_accuracy: 0.8587 - val_loss: 0.3473\n",
          "output_type": "stream"
        }
      ]
    },
    {
      "cell_type": "markdown",
      "source": [
        "# **Prediction**"
      ],
      "metadata": {
        "id": "oCSywiNrjjrb"
      }
    },
    {
      "cell_type": "code",
      "source": [
        "y_pred = model.predict(X_test_scaled)"
      ],
      "metadata": {
        "execution": {
          "iopub.status.busy": "2024-08-26T07:13:19.109297Z",
          "iopub.execute_input": "2024-08-26T07:13:19.109671Z",
          "iopub.status.idle": "2024-08-26T07:13:19.369166Z",
          "shell.execute_reply.started": "2024-08-26T07:13:19.109634Z",
          "shell.execute_reply": "2024-08-26T07:13:19.368101Z"
        },
        "trusted": true,
        "id": "sKqMNYb9jjrb",
        "outputId": "1a132e7b-64c7-497c-b4e4-4f153f051f0b"
      },
      "execution_count": null,
      "outputs": [
        {
          "name": "stdout",
          "text": "\u001b[1m63/63\u001b[0m \u001b[32m━━━━━━━━━━━━━━━━━━━━\u001b[0m\u001b[37m\u001b[0m \u001b[1m0s\u001b[0m 2ms/step\n",
          "output_type": "stream"
        }
      ]
    },
    {
      "cell_type": "code",
      "source": [
        "y_pred"
      ],
      "metadata": {
        "execution": {
          "iopub.status.busy": "2024-08-26T07:13:19.371105Z",
          "iopub.execute_input": "2024-08-26T07:13:19.371490Z",
          "iopub.status.idle": "2024-08-26T07:13:19.380013Z",
          "shell.execute_reply.started": "2024-08-26T07:13:19.371450Z",
          "shell.execute_reply": "2024-08-26T07:13:19.378821Z"
        },
        "trusted": true,
        "id": "p_r7t07wjjrb",
        "outputId": "54c9ee26-c7cc-4585-9624-db63ebac5643"
      },
      "execution_count": null,
      "outputs": [
        {
          "execution_count": 180,
          "output_type": "execute_result",
          "data": {
            "text/plain": "array([[0.01005471],\n       [0.06513331],\n       [0.03483623],\n       ...,\n       [0.00382926],\n       [0.04076531],\n       [0.44416395]], dtype=float32)"
          },
          "metadata": {}
        }
      ]
    },
    {
      "cell_type": "code",
      "source": [
        "y_pred = y_pred.argmax(axis=-1)\n",
        "print(y_pred)"
      ],
      "metadata": {
        "execution": {
          "iopub.status.busy": "2024-08-26T07:13:19.381569Z",
          "iopub.execute_input": "2024-08-26T07:13:19.382487Z",
          "iopub.status.idle": "2024-08-26T07:13:19.395502Z",
          "shell.execute_reply.started": "2024-08-26T07:13:19.382439Z",
          "shell.execute_reply": "2024-08-26T07:13:19.394229Z"
        },
        "trusted": true,
        "id": "_ubhe8DOjjrb",
        "outputId": "c9399824-2a30-4fce-f005-c994c6c21d79"
      },
      "execution_count": null,
      "outputs": [
        {
          "name": "stdout",
          "text": "[0 0 0 ... 0 0 0]\n",
          "output_type": "stream"
        }
      ]
    },
    {
      "cell_type": "markdown",
      "source": [
        "# **Evaluation**"
      ],
      "metadata": {
        "id": "49miQqXYjjrb"
      }
    },
    {
      "cell_type": "code",
      "source": [
        "accuracy_score(y_test, y_pred)"
      ],
      "metadata": {
        "execution": {
          "iopub.status.busy": "2024-08-26T07:13:19.397154Z",
          "iopub.execute_input": "2024-08-26T07:13:19.397712Z",
          "iopub.status.idle": "2024-08-26T07:13:19.410734Z",
          "shell.execute_reply.started": "2024-08-26T07:13:19.397642Z",
          "shell.execute_reply": "2024-08-26T07:13:19.409381Z"
        },
        "trusted": true,
        "id": "5hVzSdamjjrb",
        "outputId": "f257224f-e3b0-4b50-fe87-e327ef91547c"
      },
      "execution_count": null,
      "outputs": [
        {
          "execution_count": 182,
          "output_type": "execute_result",
          "data": {
            "text/plain": "0.7925"
          },
          "metadata": {}
        }
      ]
    },
    {
      "cell_type": "code",
      "source": [
        "history.history['loss']"
      ],
      "metadata": {
        "execution": {
          "iopub.status.busy": "2024-08-26T07:13:19.411996Z",
          "iopub.execute_input": "2024-08-26T07:13:19.412399Z",
          "iopub.status.idle": "2024-08-26T07:13:19.425896Z",
          "shell.execute_reply.started": "2024-08-26T07:13:19.412360Z",
          "shell.execute_reply": "2024-08-26T07:13:19.424489Z"
        },
        "trusted": true,
        "id": "fvGQlHtcjjrc",
        "outputId": "725707b3-9564-4772-8758-56ec874141ac"
      },
      "execution_count": null,
      "outputs": [
        {
          "execution_count": 183,
          "output_type": "execute_result",
          "data": {
            "text/plain": "[0.5444000959396362,\n 0.4529857933521271,\n 0.4308222532272339,\n 0.41928383708000183,\n 0.40678784251213074,\n 0.3930318057537079,\n 0.379240483045578,\n 0.3679082989692688,\n 0.3600080609321594,\n 0.3540022373199463,\n 0.3498675227165222,\n 0.3458845913410187,\n 0.34443435072898865,\n 0.34234729409217834,\n 0.3408893346786499,\n 0.3394348621368408,\n 0.33813774585723877,\n 0.3370755910873413,\n 0.3355009853839874,\n 0.33504045009613037,\n 0.3341662883758545,\n 0.33337220549583435,\n 0.33284497261047363,\n 0.33267202973365784,\n 0.3317573666572571,\n 0.33132249116897583,\n 0.33079859614372253,\n 0.33021050691604614,\n 0.32968729734420776,\n 0.32928192615509033,\n 0.32892075181007385,\n 0.32805097103118896,\n 0.32805904746055603,\n 0.3277893364429474,\n 0.3274058997631073,\n 0.3268495202064514,\n 0.32690370082855225,\n 0.32599854469299316,\n 0.32580435276031494,\n 0.32590848207473755,\n 0.3252300024032593,\n 0.3250069320201874,\n 0.32464534044265747,\n 0.32443156838417053,\n 0.3248785734176636,\n 0.32368412613868713,\n 0.3238709568977356,\n 0.32316330075263977,\n 0.3237147927284241,\n 0.32299888134002686,\n 0.3231431841850281,\n 0.3224799633026123,\n 0.322762131690979,\n 0.32192742824554443,\n 0.3218989670276642,\n 0.32162606716156006,\n 0.32116973400115967,\n 0.3206855356693268,\n 0.32113349437713623,\n 0.32066449522972107,\n 0.32104265689849854,\n 0.3205678462982178,\n 0.3200148344039917,\n 0.31953874230384827,\n 0.32023605704307556,\n 0.3194323182106018,\n 0.319454550743103,\n 0.31926190853118896,\n 0.31878119707107544,\n 0.31899532675743103,\n 0.31873461604118347,\n 0.3187967538833618,\n 0.31836533546447754,\n 0.31820642948150635,\n 0.3178487718105316,\n 0.31800520420074463,\n 0.3178207576274872,\n 0.3179270625114441,\n 0.3178239166736603,\n 0.3174538314342499,\n 0.31745854020118713,\n 0.31765007972717285,\n 0.3167419135570526,\n 0.3172251582145691,\n 0.3168058395385742,\n 0.31628695130348206,\n 0.3170293867588043,\n 0.3163062334060669,\n 0.3163418173789978,\n 0.31568053364753723,\n 0.3160862922668457,\n 0.3161453902721405,\n 0.3160098195075989,\n 0.31627795100212097,\n 0.31594741344451904,\n 0.31567615270614624,\n 0.31607455015182495,\n 0.31528422236442566,\n 0.315809041261673,\n 0.3156646192073822]"
          },
          "metadata": {}
        }
      ]
    },
    {
      "cell_type": "code",
      "source": [
        "history.history['val_loss']"
      ],
      "metadata": {
        "execution": {
          "iopub.status.busy": "2024-08-26T07:13:19.427580Z",
          "iopub.execute_input": "2024-08-26T07:13:19.428025Z",
          "iopub.status.idle": "2024-08-26T07:13:19.441975Z",
          "shell.execute_reply.started": "2024-08-26T07:13:19.427984Z",
          "shell.execute_reply": "2024-08-26T07:13:19.440775Z"
        },
        "trusted": true,
        "id": "AC0l5PPTjjrc",
        "outputId": "3cea8bae-d9e6-4999-8537-fa77822fbf78"
      },
      "execution_count": null,
      "outputs": [
        {
          "execution_count": 184,
          "output_type": "execute_result",
          "data": {
            "text/plain": "[0.48413240909576416,\n 0.44982007145881653,\n 0.4351145625114441,\n 0.4207192659378052,\n 0.4051693081855774,\n 0.3893383741378784,\n 0.37420886754989624,\n 0.3650718033313751,\n 0.35875484347343445,\n 0.35587313771247864,\n 0.3548468053340912,\n 0.3539581596851349,\n 0.35131293535232544,\n 0.3506011962890625,\n 0.3512215316295624,\n 0.3519163429737091,\n 0.3506646454334259,\n 0.34907835721969604,\n 0.3486356735229492,\n 0.3486694097518921,\n 0.34821268916130066,\n 0.34857678413391113,\n 0.34787943959236145,\n 0.3471791744232178,\n 0.3469027578830719,\n 0.34601306915283203,\n 0.34647777676582336,\n 0.34665313363075256,\n 0.34654179215431213,\n 0.34531867504119873,\n 0.34546688199043274,\n 0.3456374406814575,\n 0.3455265462398529,\n 0.3449557423591614,\n 0.34557488560676575,\n 0.3451601266860962,\n 0.3449598252773285,\n 0.3458033502101898,\n 0.34468457102775574,\n 0.34454941749572754,\n 0.3463267982006073,\n 0.3443830609321594,\n 0.3447187840938568,\n 0.3460109829902649,\n 0.3441406488418579,\n 0.3445720970630646,\n 0.3446701765060425,\n 0.34627678990364075,\n 0.34566906094551086,\n 0.3458109200000763,\n 0.34701457619667053,\n 0.34728074073791504,\n 0.34534400701522827,\n 0.34554073214530945,\n 0.34579697251319885,\n 0.3470269441604614,\n 0.34632617235183716,\n 0.34726470708847046,\n 0.34662318229675293,\n 0.34663498401641846,\n 0.34489601850509644,\n 0.3452305197715759,\n 0.345391184091568,\n 0.3479524850845337,\n 0.3439787030220032,\n 0.3443725109100342,\n 0.34497392177581787,\n 0.34528934955596924,\n 0.34456825256347656,\n 0.3459245562553406,\n 0.34516212344169617,\n 0.3445125222206116,\n 0.34360650181770325,\n 0.3436277508735657,\n 0.3453938663005829,\n 0.34450191259384155,\n 0.34451553225517273,\n 0.34536662697792053,\n 0.3467916250228882,\n 0.34470924735069275,\n 0.3451279103755951,\n 0.34490880370140076,\n 0.34400084614753723,\n 0.3484269976615906,\n 0.34427767992019653,\n 0.34665459394454956,\n 0.3441702723503113,\n 0.3456689119338989,\n 0.34421271085739136,\n 0.34678155183792114,\n 0.3462943136692047,\n 0.34576746821403503,\n 0.3445991575717926,\n 0.34559300541877747,\n 0.3455100357532501,\n 0.3450644314289093,\n 0.34425127506256104,\n 0.3477049171924591,\n 0.3453938663005829,\n 0.34727969765663147]"
          },
          "metadata": {}
        }
      ]
    },
    {
      "cell_type": "code",
      "source": [
        "plt.plot(history.history['loss'])\n",
        "plt.plot(history.history['val_loss'])\n",
        "plt.show()"
      ],
      "metadata": {
        "execution": {
          "iopub.status.busy": "2024-08-26T07:13:19.443574Z",
          "iopub.execute_input": "2024-08-26T07:13:19.444080Z",
          "iopub.status.idle": "2024-08-26T07:13:19.644788Z",
          "shell.execute_reply.started": "2024-08-26T07:13:19.444037Z",
          "shell.execute_reply": "2024-08-26T07:13:19.643494Z"
        },
        "trusted": true,
        "id": "kuOnRa50jjrc",
        "outputId": "a81c22b6-c889-4abd-e34d-ff4abad04050"
      },
      "execution_count": null,
      "outputs": [
        {
          "output_type": "display_data",
          "data": {
            "text/plain": "<Figure size 640x480 with 1 Axes>",
            "image/png": "[encoded data removed]"
          },
          "metadata": {}
        }
      ]
    },
    {
      "cell_type": "code",
      "source": [
        "plt.plot(history.history['accuracy'])\n",
        "plt.plot(history.history['val_accuracy'])\n",
        "plt.show()"
      ],
      "metadata": {
        "execution": {
          "iopub.status.busy": "2024-08-26T07:13:19.646273Z",
          "iopub.execute_input": "2024-08-26T07:13:19.646697Z",
          "iopub.status.idle": "2024-08-26T07:13:19.901985Z",
          "shell.execute_reply.started": "2024-08-26T07:13:19.646634Z",
          "shell.execute_reply": "2024-08-26T07:13:19.900901Z"
        },
        "trusted": true,
        "id": "294ef4SJjjrc",
        "outputId": "5c69988b-3f2e-4ad4-f2d8-eea93be95b96"
      },
      "execution_count": null,
      "outputs": [
        {
          "output_type": "display_data",
          "data": {
            "text/plain": "<Figure size 640x480 with 1 Axes>",
            "image/png": "[encoded data removed]"
          },
          "metadata": {}
        }
      ]
    }
  ]
}